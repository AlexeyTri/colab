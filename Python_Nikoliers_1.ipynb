{
  "nbformat": 4,
  "nbformat_minor": 0,
  "metadata": {
    "colab": {
      "provenance": [],
      "toc_visible": true,
      "mount_file_id": "1DocJ5OzK6rJZXqfha9YqAelQ_IVSD7us",
      "authorship_tag": "ABX9TyNGMEhzjMLt3BRYshbuAgly",
      "include_colab_link": true
    },
    "kernelspec": {
      "name": "python3",
      "display_name": "Python 3"
    },
    "language_info": {
      "name": "python"
    }
  },
  "cells": [
    {
      "cell_type": "markdown",
      "metadata": {
        "id": "view-in-github",
        "colab_type": "text"
      },
      "source": [
        "<a href=\"https://colab.research.google.com/github/AlexeyTri/colab/blob/master/Python_Nikoliers_1.ipynb\" target=\"_parent\"><img src=\"https://colab.research.google.com/assets/colab-badge.svg\" alt=\"Open In Colab\"/></a>"
      ]
    },
    {
      "cell_type": "markdown",
      "source": [
        "## Python_Занятие №1 09.12.2023"
      ],
      "metadata": {
        "id": "MR-e_g5ySn0G"
      }
    },
    {
      "cell_type": "code",
      "source": [
        "sorted([2,4,3])\n",
        ""
      ],
      "metadata": {
        "id": "3K9pJMUDS0Rh",
        "colab": {
          "base_uri": "https://localhost:8080/"
        },
        "outputId": "0287e4e3-7b62-4b94-d35c-720265fdd31d"
      },
      "execution_count": 6,
      "outputs": [
        {
          "output_type": "execute_result",
          "data": {
            "text/plain": [
              "[2, 3, 4]"
            ]
          },
          "metadata": {},
          "execution_count": 6
        }
      ]
    },
    {
      "cell_type": "code",
      "source": [
        "#введите длину и высоту\n",
        "length = 5\n",
        "breadth = 2\n",
        "\n",
        "#расчет площади\n",
        "area = length * breadth\n",
        "\n",
        "#вывод площади\n",
        "print('площадь равна', area)"
      ],
      "metadata": {
        "colab": {
          "base_uri": "https://localhost:8080/"
        },
        "id": "7ZyD6xiOdCa4",
        "outputId": "134635f0-5971-4aaa-85e9-54c2d3e38ec0"
      },
      "execution_count": 8,
      "outputs": [
        {
          "output_type": "stream",
          "name": "stdout",
          "text": [
            "площадь равна 10\n"
          ]
        }
      ]
    },
    {
      "cell_type": "code",
      "source": [
        "a_1 = 5\n",
        "A_1 = 6"
      ],
      "metadata": {
        "id": "b2QYYcHSfK-V"
      },
      "execution_count": 11,
      "outputs": []
    },
    {
      "cell_type": "code",
      "source": [
        "a_1 is A_1"
      ],
      "metadata": {
        "colab": {
          "base_uri": "https://localhost:8080/"
        },
        "id": "VnA_V_jHfn85",
        "outputId": "4094828c-26d7-43e0-8207-4bb947f62f10"
      },
      "execution_count": 12,
      "outputs": [
        {
          "output_type": "execute_result",
          "data": {
            "text/plain": [
              "False"
            ]
          },
          "metadata": {},
          "execution_count": 12
        }
      ]
    },
    {
      "cell_type": "code",
      "source": [
        "import keyword"
      ],
      "metadata": {
        "id": "I8kj9vtygHqa"
      },
      "execution_count": 13,
      "outputs": []
    },
    {
      "cell_type": "code",
      "source": [
        "keyword.kwlist"
      ],
      "metadata": {
        "colab": {
          "base_uri": "https://localhost:8080/"
        },
        "id": "rGMUXW94gOKn",
        "outputId": "8cfec06a-52ad-4f62-af75-52aad9340ab6"
      },
      "execution_count": 14,
      "outputs": [
        {
          "output_type": "execute_result",
          "data": {
            "text/plain": [
              "['False',\n",
              " 'None',\n",
              " 'True',\n",
              " 'and',\n",
              " 'as',\n",
              " 'assert',\n",
              " 'async',\n",
              " 'await',\n",
              " 'break',\n",
              " 'class',\n",
              " 'continue',\n",
              " 'def',\n",
              " 'del',\n",
              " 'elif',\n",
              " 'else',\n",
              " 'except',\n",
              " 'finally',\n",
              " 'for',\n",
              " 'from',\n",
              " 'global',\n",
              " 'if',\n",
              " 'import',\n",
              " 'in',\n",
              " 'is',\n",
              " 'lambda',\n",
              " 'nonlocal',\n",
              " 'not',\n",
              " 'or',\n",
              " 'pass',\n",
              " 'raise',\n",
              " 'return',\n",
              " 'try',\n",
              " 'while',\n",
              " 'with',\n",
              " 'yield']"
            ]
          },
          "metadata": {},
          "execution_count": 14
        }
      ]
    },
    {
      "cell_type": "code",
      "source": [
        "False = 4"
      ],
      "metadata": {
        "colab": {
          "base_uri": "https://localhost:8080/",
          "height": 141
        },
        "id": "2Jz1PIbmg9kw",
        "outputId": "980fdb9a-199a-4460-dda6-014a536b7505"
      },
      "execution_count": 15,
      "outputs": [
        {
          "output_type": "error",
          "ename": "SyntaxError",
          "evalue": "ignored",
          "traceback": [
            "\u001b[0;36m  File \u001b[0;32m\"<ipython-input-15-ab9e71de236b>\"\u001b[0;36m, line \u001b[0;32m1\u001b[0m\n\u001b[0;31m    False = 4\u001b[0m\n\u001b[0m    ^\u001b[0m\n\u001b[0;31mSyntaxError\u001b[0m\u001b[0;31m:\u001b[0m cannot assign to False\n"
          ]
        }
      ]
    },
    {
      "cell_type": "markdown",
      "source": [
        "переменные -> функции -> классы"
      ],
      "metadata": {
        "id": "RfTOT66ahSkf"
      }
    },
    {
      "cell_type": "code",
      "source": [
        "def GetPostMetadata():\n",
        "    pass\n",
        "\n",
        "def get_post_metadata():\n",
        "    pass"
      ],
      "metadata": {
        "id": "uLC24L_vhJWA"
      },
      "execution_count": null,
      "outputs": []
    },
    {
      "cell_type": "code",
      "source": [
        "def get_rectangle_area(len, brea):\n",
        "    print('Площадь прямоугольника',len * brea)"
      ],
      "metadata": {
        "id": "tRmV94tgjCok"
      },
      "execution_count": 19,
      "outputs": []
    },
    {
      "cell_type": "code",
      "source": [
        "get_rectangle_area(10, 11)"
      ],
      "metadata": {
        "colab": {
          "base_uri": "https://localhost:8080/"
        },
        "id": "heAkDGhZjgtQ",
        "outputId": "38b7b839-10f3-4192-cf1b-cd6ed7eb7504"
      },
      "execution_count": 20,
      "outputs": [
        {
          "output_type": "stream",
          "name": "stdout",
          "text": [
            "Площадь прямоугольника 110\n"
          ]
        }
      ]
    },
    {
      "cell_type": "markdown",
      "source": [
        "## TYPE DATA\n",
        "str: \"2341234\", \"1sdfasdf\"\n",
        "int: 1\n",
        "float 16, 32, 124, 256: 3.45555222\n",
        "bool: true (1), false (0)"
      ],
      "metadata": {
        "id": "ED-XtrH-kNPy"
      }
    },
    {
      "cell_type": "code",
      "source": [
        "a = 123"
      ],
      "metadata": {
        "id": "iTmS7umCkQJ5"
      },
      "execution_count": 21,
      "outputs": []
    },
    {
      "cell_type": "code",
      "source": [
        "type(a)"
      ],
      "metadata": {
        "colab": {
          "base_uri": "https://localhost:8080/"
        },
        "id": "ryB3XcZ1ljQ8",
        "outputId": "e4eb6afa-7e1b-4c66-fc3c-d9e26cd8c96f"
      },
      "execution_count": 24,
      "outputs": [
        {
          "output_type": "execute_result",
          "data": {
            "text/plain": [
              "str"
            ]
          },
          "metadata": {},
          "execution_count": 24
        }
      ]
    },
    {
      "cell_type": "code",
      "source": [
        "a = \"sretttt\""
      ],
      "metadata": {
        "id": "wsi5NFljlmMW"
      },
      "execution_count": 23,
      "outputs": []
    },
    {
      "cell_type": "code",
      "source": [
        "a = 1.234"
      ],
      "metadata": {
        "id": "kE3KkPhEl4t9"
      },
      "execution_count": 30,
      "outputs": []
    },
    {
      "cell_type": "code",
      "source": [
        "type(a)"
      ],
      "metadata": {
        "colab": {
          "base_uri": "https://localhost:8080/"
        },
        "id": "EpI-xBGjlrNL",
        "outputId": "b47eeaa9-0c5c-4c10-9a3f-a6e93f538df0"
      },
      "execution_count": 31,
      "outputs": [
        {
          "output_type": "execute_result",
          "data": {
            "text/plain": [
              "float"
            ]
          },
          "metadata": {},
          "execution_count": 31
        }
      ]
    },
    {
      "cell_type": "markdown",
      "source": [
        "### LIST, TUPLE\n"
      ],
      "metadata": {
        "id": "uloy5SYGob63"
      }
    },
    {
      "cell_type": "code",
      "source": [
        "lis = [\"wer\", 1, [1,2,3,], {a:123}]"
      ],
      "metadata": {
        "id": "CEGjkZSpmfve"
      },
      "execution_count": 33,
      "outputs": []
    },
    {
      "cell_type": "code",
      "source": [
        "cort = (\"wer\", 1, [1,2,3,], {a:123})"
      ],
      "metadata": {
        "id": "scVjw4-BmpDT"
      },
      "execution_count": 40,
      "outputs": []
    },
    {
      "cell_type": "code",
      "source": [
        "lis[1] = 2"
      ],
      "metadata": {
        "id": "5DXND_gLnqrK"
      },
      "execution_count": 42,
      "outputs": []
    },
    {
      "cell_type": "code",
      "source": [
        "lis"
      ],
      "metadata": {
        "colab": {
          "base_uri": "https://localhost:8080/"
        },
        "id": "TTWf6MbQnteb",
        "outputId": "f8e22955-e568-4b75-b87b-63adb82f57cf"
      },
      "execution_count": 43,
      "outputs": [
        {
          "output_type": "execute_result",
          "data": {
            "text/plain": [
              "['wer', 2, [1, 2, 3], {1.234: 123}]"
            ]
          },
          "metadata": {},
          "execution_count": 43
        }
      ]
    },
    {
      "cell_type": "code",
      "source": [
        "cort[1] = 2"
      ],
      "metadata": {
        "colab": {
          "base_uri": "https://localhost:8080/",
          "height": 176
        },
        "id": "FlEpTmejn2cN",
        "outputId": "8fb2d8b9-3355-40fa-8e47-128c975919a2"
      },
      "execution_count": 44,
      "outputs": [
        {
          "output_type": "error",
          "ename": "TypeError",
          "evalue": "ignored",
          "traceback": [
            "\u001b[0;31m---------------------------------------------------------------------------\u001b[0m",
            "\u001b[0;31mTypeError\u001b[0m                                 Traceback (most recent call last)",
            "\u001b[0;32m<ipython-input-44-4db0bfc27c9e>\u001b[0m in \u001b[0;36m<cell line: 1>\u001b[0;34m()\u001b[0m\n\u001b[0;32m----> 1\u001b[0;31m \u001b[0mcort\u001b[0m\u001b[0;34m[\u001b[0m\u001b[0;36m1\u001b[0m\u001b[0;34m]\u001b[0m \u001b[0;34m=\u001b[0m \u001b[0;36m2\u001b[0m\u001b[0;34m\u001b[0m\u001b[0;34m\u001b[0m\u001b[0m\n\u001b[0m",
            "\u001b[0;31mTypeError\u001b[0m: 'tuple' object does not support item assignment"
          ]
        }
      ]
    },
    {
      "cell_type": "code",
      "source": [
        "type(cort)"
      ],
      "metadata": {
        "colab": {
          "base_uri": "https://localhost:8080/"
        },
        "id": "wmGki6-gnY9n",
        "outputId": "6306cdc6-bb9e-4c53-9b7f-8509254f6cd2"
      },
      "execution_count": 41,
      "outputs": [
        {
          "output_type": "execute_result",
          "data": {
            "text/plain": [
              "tuple"
            ]
          },
          "metadata": {},
          "execution_count": 41
        }
      ]
    },
    {
      "cell_type": "markdown",
      "source": [
        "### DICTIONARY"
      ],
      "metadata": {
        "id": "IECn4iF8onmU"
      }
    },
    {
      "cell_type": "code",
      "source": [
        "boris = {\"возраст\": 19, \"пол\": \"male\", \"рост\": 180}\n",
        "nataly = {\"возраст\": 18, \"пол\": \"female\", \"рост\": 175}\n",
        "elena = {\"возраст\": 16, \"пол\": \"female\", \"рост\": 177}"
      ],
      "metadata": {
        "id": "md0rhzlTouAt"
      },
      "execution_count": 66,
      "outputs": []
    },
    {
      "cell_type": "code",
      "source": [
        "boris.get(\"возраст\")"
      ],
      "metadata": {
        "colab": {
          "base_uri": "https://localhost:8080/"
        },
        "id": "27t95q_vpRfn",
        "outputId": "8d5556a3-94fd-4a6f-8524-257c4197360c"
      },
      "execution_count": 63,
      "outputs": [
        {
          "output_type": "execute_result",
          "data": {
            "text/plain": [
              "19"
            ]
          },
          "metadata": {},
          "execution_count": 63
        }
      ]
    },
    {
      "cell_type": "code",
      "source": [
        "print(f'Рост Бориса составляет {boris.get(\"рост\")} см.')"
      ],
      "metadata": {
        "colab": {
          "base_uri": "https://localhost:8080/"
        },
        "id": "tFNyzvqBqigD",
        "outputId": "e8a4eb50-c5de-4797-d6ce-f93f099a1fb3"
      },
      "execution_count": 65,
      "outputs": [
        {
          "output_type": "stream",
          "name": "stdout",
          "text": [
            "Рост Бориса составляет 180 см.\n"
          ]
        }
      ]
    },
    {
      "cell_type": "markdown",
      "source": [
        "ДЗ до 20 страницы выполнить весь код"
      ],
      "metadata": {
        "id": "c72zmRJAsQx3"
      }
    },
    {
      "cell_type": "code",
      "source": [],
      "metadata": {
        "id": "QVAHzP8AsYFN"
      },
      "execution_count": null,
      "outputs": []
    }
  ]
}